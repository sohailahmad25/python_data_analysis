{
 "cells": [
  {
   "cell_type": "code",
   "execution_count": 1,
   "metadata": {},
   "outputs": [],
   "source": [
    "import pandas as pd\n",
    "import numpy as np\n"
   ]
  },
  {
   "cell_type": "code",
   "execution_count": 2,
   "metadata": {},
   "outputs": [
    {
     "data": {
      "text/plain": [
       "DatetimeIndex(['2023-02-01', '2023-02-02', '2023-02-03', '2023-02-04',\n",
       "               '2023-02-05', '2023-02-06'],\n",
       "              dtype='datetime64[ns]', freq='D')"
      ]
     },
     "execution_count": 2,
     "metadata": {},
     "output_type": "execute_result"
    }
   ],
   "source": [
    "dates = pd.date_range('2023-02-01' , periods=6)   # dates is a python object of datatype 'datetime64'\n",
    "dates"
   ]
  },
  {
   "cell_type": "code",
   "execution_count": 3,
   "metadata": {},
   "outputs": [
    {
     "data": {
      "text/html": [
       "<div>\n",
       "<style scoped>\n",
       "    .dataframe tbody tr th:only-of-type {\n",
       "        vertical-align: middle;\n",
       "    }\n",
       "\n",
       "    .dataframe tbody tr th {\n",
       "        vertical-align: top;\n",
       "    }\n",
       "\n",
       "    .dataframe thead th {\n",
       "        text-align: right;\n",
       "    }\n",
       "</style>\n",
       "<table border=\"1\" class=\"dataframe\">\n",
       "  <thead>\n",
       "    <tr style=\"text-align: right;\">\n",
       "      <th></th>\n",
       "      <th>A</th>\n",
       "      <th>B</th>\n",
       "      <th>C</th>\n",
       "      <th>D</th>\n",
       "    </tr>\n",
       "  </thead>\n",
       "  <tbody>\n",
       "    <tr>\n",
       "      <th>2023-02-01</th>\n",
       "      <td>-0.525497</td>\n",
       "      <td>1.196848</td>\n",
       "      <td>0.952512</td>\n",
       "      <td>-0.809900</td>\n",
       "    </tr>\n",
       "    <tr>\n",
       "      <th>2023-02-02</th>\n",
       "      <td>0.977709</td>\n",
       "      <td>-1.197528</td>\n",
       "      <td>0.590801</td>\n",
       "      <td>1.082101</td>\n",
       "    </tr>\n",
       "    <tr>\n",
       "      <th>2023-02-03</th>\n",
       "      <td>0.923582</td>\n",
       "      <td>1.492331</td>\n",
       "      <td>-1.049519</td>\n",
       "      <td>-0.458757</td>\n",
       "    </tr>\n",
       "    <tr>\n",
       "      <th>2023-02-04</th>\n",
       "      <td>0.171470</td>\n",
       "      <td>0.243853</td>\n",
       "      <td>-0.114815</td>\n",
       "      <td>-0.022980</td>\n",
       "    </tr>\n",
       "    <tr>\n",
       "      <th>2023-02-05</th>\n",
       "      <td>-1.208424</td>\n",
       "      <td>-1.696853</td>\n",
       "      <td>0.931062</td>\n",
       "      <td>2.821711</td>\n",
       "    </tr>\n",
       "    <tr>\n",
       "      <th>2023-02-06</th>\n",
       "      <td>-0.337102</td>\n",
       "      <td>0.761872</td>\n",
       "      <td>-1.906765</td>\n",
       "      <td>0.677529</td>\n",
       "    </tr>\n",
       "  </tbody>\n",
       "</table>\n",
       "</div>"
      ],
      "text/plain": [
       "                   A         B         C         D\n",
       "2023-02-01 -0.525497  1.196848  0.952512 -0.809900\n",
       "2023-02-02  0.977709 -1.197528  0.590801  1.082101\n",
       "2023-02-03  0.923582  1.492331 -1.049519 -0.458757\n",
       "2023-02-04  0.171470  0.243853 -0.114815 -0.022980\n",
       "2023-02-05 -1.208424 -1.696853  0.931062  2.821711\n",
       "2023-02-06 -0.337102  0.761872 -1.906765  0.677529"
      ]
     },
     "execution_count": 3,
     "metadata": {},
     "output_type": "execute_result"
    }
   ],
   "source": [
    "df11 = pd.DataFrame(np.random.randn(6,4), index=dates, columns=list('ABCD'))   # indices are dates , dates are 6 periods so for each random number with 6 rows and 4 cols\n",
    "                                    # list will convert 'ABCD' string to list of ['A', 'B', 'C', 'D']  4 cols, so 4 char list\n",
    "df11"
   ]
  },
  {
   "cell_type": "code",
   "execution_count": 4,
   "metadata": {},
   "outputs": [
    {
     "data": {
      "text/html": [
       "<div>\n",
       "<style scoped>\n",
       "    .dataframe tbody tr th:only-of-type {\n",
       "        vertical-align: middle;\n",
       "    }\n",
       "\n",
       "    .dataframe tbody tr th {\n",
       "        vertical-align: top;\n",
       "    }\n",
       "\n",
       "    .dataframe thead th {\n",
       "        text-align: right;\n",
       "    }\n",
       "</style>\n",
       "<table border=\"1\" class=\"dataframe\">\n",
       "  <thead>\n",
       "    <tr style=\"text-align: right;\">\n",
       "      <th></th>\n",
       "      <th>A</th>\n",
       "      <th>B</th>\n",
       "      <th>C</th>\n",
       "      <th>D</th>\n",
       "      <th>E</th>\n",
       "      <th>F</th>\n",
       "    </tr>\n",
       "  </thead>\n",
       "  <tbody>\n",
       "    <tr>\n",
       "      <th>0</th>\n",
       "      <td>1.0</td>\n",
       "      <td>2013-01-02</td>\n",
       "      <td>1.0</td>\n",
       "      <td>3</td>\n",
       "      <td>test</td>\n",
       "      <td>foo</td>\n",
       "    </tr>\n",
       "    <tr>\n",
       "      <th>1</th>\n",
       "      <td>1.0</td>\n",
       "      <td>2013-01-02</td>\n",
       "      <td>1.0</td>\n",
       "      <td>3</td>\n",
       "      <td>train</td>\n",
       "      <td>foo</td>\n",
       "    </tr>\n",
       "    <tr>\n",
       "      <th>2</th>\n",
       "      <td>1.0</td>\n",
       "      <td>2013-01-02</td>\n",
       "      <td>1.0</td>\n",
       "      <td>3</td>\n",
       "      <td>test</td>\n",
       "      <td>foo</td>\n",
       "    </tr>\n",
       "    <tr>\n",
       "      <th>3</th>\n",
       "      <td>1.0</td>\n",
       "      <td>2013-01-02</td>\n",
       "      <td>1.0</td>\n",
       "      <td>3</td>\n",
       "      <td>train</td>\n",
       "      <td>foo</td>\n",
       "    </tr>\n",
       "  </tbody>\n",
       "</table>\n",
       "</div>"
      ],
      "text/plain": [
       "     A          B    C  D      E    F\n",
       "0  1.0 2013-01-02  1.0  3   test  foo\n",
       "1  1.0 2013-01-02  1.0  3  train  foo\n",
       "2  1.0 2013-01-02  1.0  3   test  foo\n",
       "3  1.0 2013-01-02  1.0  3  train  foo"
      ]
     },
     "execution_count": 4,
     "metadata": {},
     "output_type": "execute_result"
    }
   ],
   "source": [
    "df22 = pd.DataFrame(\n",
    "    {\n",
    "        \"A\": 1.0,                     # it will identify the number of rows from other cols, which ever number of rows are max in any col, that will be populated for others\n",
    "        \"B\": pd.Timestamp(\"20130102\"),  #same timestamp in 4 rows\n",
    "        \"C\": pd.Series(1, index=list(range(4)), dtype=\"float32\"),   #won't show index but is should be there align with no. of rows\n",
    "        \"D\": np.array([3] * 4, dtype=\"int32\"),                     # array of value 3 , rows 3\n",
    "        \"E\": pd.Categorical([\"test\", \"train\", \"test\", \"train\"]),    \n",
    "        \"F\": \"foo\",\n",
    "    }\n",
    ")\n",
    "\n",
    "df22"
   ]
  },
  {
   "cell_type": "code",
   "execution_count": 5,
   "metadata": {},
   "outputs": [
    {
     "data": {
      "text/plain": [
       "A          float64\n",
       "B    datetime64[s]\n",
       "C          float32\n",
       "D            int32\n",
       "E         category\n",
       "F           object\n",
       "dtype: object"
      ]
     },
     "execution_count": 5,
     "metadata": {},
     "output_type": "execute_result"
    }
   ],
   "source": [
    "# let's take a look into details of this data frame, datatypes\n",
    "\n",
    "df22.dtypes"
   ]
  },
  {
   "cell_type": "code",
   "execution_count": 6,
   "metadata": {},
   "outputs": [
    {
     "name": "stdout",
     "output_type": "stream",
     "text": [
      "<class 'pandas.core.frame.DataFrame'>\n",
      "Index: 4 entries, 0 to 3\n",
      "Data columns (total 6 columns):\n",
      " #   Column  Non-Null Count  Dtype        \n",
      "---  ------  --------------  -----        \n",
      " 0   A       4 non-null      float64      \n",
      " 1   B       4 non-null      datetime64[s]\n",
      " 2   C       4 non-null      float32      \n",
      " 3   D       4 non-null      int32        \n",
      " 4   E       4 non-null      category     \n",
      " 5   F       4 non-null      object       \n",
      "dtypes: category(1), datetime64[s](1), float32(1), float64(1), int32(1), object(1)\n",
      "memory usage: 288.0+ bytes\n"
     ]
    }
   ],
   "source": [
    "df22.info()"
   ]
  },
  {
   "cell_type": "code",
   "execution_count": 7,
   "metadata": {},
   "outputs": [
    {
     "data": {
      "text/plain": [
       "Index(['A', 'B', 'C', 'D', 'E', 'F'], dtype='object')"
      ]
     },
     "execution_count": 7,
     "metadata": {},
     "output_type": "execute_result"
    }
   ],
   "source": [
    "df22.columns"
   ]
  },
  {
   "cell_type": "code",
   "execution_count": 8,
   "metadata": {},
   "outputs": [
    {
     "data": {
      "text/plain": [
       "Index([0, 1, 2, 3], dtype='int64')"
      ]
     },
     "execution_count": 8,
     "metadata": {},
     "output_type": "execute_result"
    }
   ],
   "source": [
    "df22.index"
   ]
  },
  {
   "cell_type": "code",
   "execution_count": 9,
   "metadata": {},
   "outputs": [
    {
     "data": {
      "text/html": [
       "<div>\n",
       "<style scoped>\n",
       "    .dataframe tbody tr th:only-of-type {\n",
       "        vertical-align: middle;\n",
       "    }\n",
       "\n",
       "    .dataframe tbody tr th {\n",
       "        vertical-align: top;\n",
       "    }\n",
       "\n",
       "    .dataframe thead th {\n",
       "        text-align: right;\n",
       "    }\n",
       "</style>\n",
       "<table border=\"1\" class=\"dataframe\">\n",
       "  <thead>\n",
       "    <tr style=\"text-align: right;\">\n",
       "      <th></th>\n",
       "      <th>A</th>\n",
       "      <th>B</th>\n",
       "      <th>C</th>\n",
       "      <th>D</th>\n",
       "    </tr>\n",
       "  </thead>\n",
       "  <tbody>\n",
       "    <tr>\n",
       "      <th>2023-02-01</th>\n",
       "      <td>-0.525497</td>\n",
       "      <td>1.196848</td>\n",
       "      <td>0.952512</td>\n",
       "      <td>-0.809900</td>\n",
       "    </tr>\n",
       "    <tr>\n",
       "      <th>2023-02-02</th>\n",
       "      <td>0.977709</td>\n",
       "      <td>-1.197528</td>\n",
       "      <td>0.590801</td>\n",
       "      <td>1.082101</td>\n",
       "    </tr>\n",
       "    <tr>\n",
       "      <th>2023-02-03</th>\n",
       "      <td>0.923582</td>\n",
       "      <td>1.492331</td>\n",
       "      <td>-1.049519</td>\n",
       "      <td>-0.458757</td>\n",
       "    </tr>\n",
       "    <tr>\n",
       "      <th>2023-02-04</th>\n",
       "      <td>0.171470</td>\n",
       "      <td>0.243853</td>\n",
       "      <td>-0.114815</td>\n",
       "      <td>-0.022980</td>\n",
       "    </tr>\n",
       "    <tr>\n",
       "      <th>2023-02-05</th>\n",
       "      <td>-1.208424</td>\n",
       "      <td>-1.696853</td>\n",
       "      <td>0.931062</td>\n",
       "      <td>2.821711</td>\n",
       "    </tr>\n",
       "    <tr>\n",
       "      <th>2023-02-06</th>\n",
       "      <td>-0.337102</td>\n",
       "      <td>0.761872</td>\n",
       "      <td>-1.906765</td>\n",
       "      <td>0.677529</td>\n",
       "    </tr>\n",
       "  </tbody>\n",
       "</table>\n",
       "</div>"
      ],
      "text/plain": [
       "                   A         B         C         D\n",
       "2023-02-01 -0.525497  1.196848  0.952512 -0.809900\n",
       "2023-02-02  0.977709 -1.197528  0.590801  1.082101\n",
       "2023-02-03  0.923582  1.492331 -1.049519 -0.458757\n",
       "2023-02-04  0.171470  0.243853 -0.114815 -0.022980\n",
       "2023-02-05 -1.208424 -1.696853  0.931062  2.821711\n",
       "2023-02-06 -0.337102  0.761872 -1.906765  0.677529"
      ]
     },
     "execution_count": 9,
     "metadata": {},
     "output_type": "execute_result"
    }
   ],
   "source": [
    "df11"
   ]
  },
  {
   "cell_type": "code",
   "execution_count": 10,
   "metadata": {},
   "outputs": [
    {
     "data": {
      "text/plain": [
       "array([[-0.52549704,  1.1968484 ,  0.95251157, -0.80990004],\n",
       "       [ 0.97770884, -1.19752753,  0.59080149,  1.0821014 ],\n",
       "       [ 0.92358213,  1.49233099, -1.04951905, -0.45875733],\n",
       "       [ 0.17147013,  0.24385268, -0.11481531, -0.02297976],\n",
       "       [-1.20842408, -1.69685336,  0.93106214,  2.82171082],\n",
       "       [-0.33710247,  0.76187209, -1.90676539,  0.67752902]])"
      ]
     },
     "execution_count": 10,
     "metadata": {},
     "output_type": "execute_result"
    }
   ],
   "source": [
    "df11.to_numpy()  # will skip indices and pic rows as lists, which is again inside a list. 2D array basically\n"
   ]
  },
  {
   "cell_type": "code",
   "execution_count": 11,
   "metadata": {},
   "outputs": [
    {
     "data": {
      "text/html": [
       "<div>\n",
       "<style scoped>\n",
       "    .dataframe tbody tr th:only-of-type {\n",
       "        vertical-align: middle;\n",
       "    }\n",
       "\n",
       "    .dataframe tbody tr th {\n",
       "        vertical-align: top;\n",
       "    }\n",
       "\n",
       "    .dataframe thead th {\n",
       "        text-align: right;\n",
       "    }\n",
       "</style>\n",
       "<table border=\"1\" class=\"dataframe\">\n",
       "  <thead>\n",
       "    <tr style=\"text-align: right;\">\n",
       "      <th></th>\n",
       "      <th>D</th>\n",
       "      <th>C</th>\n",
       "      <th>B</th>\n",
       "      <th>A</th>\n",
       "    </tr>\n",
       "  </thead>\n",
       "  <tbody>\n",
       "    <tr>\n",
       "      <th>2023-02-01</th>\n",
       "      <td>-0.809900</td>\n",
       "      <td>0.952512</td>\n",
       "      <td>1.196848</td>\n",
       "      <td>-0.525497</td>\n",
       "    </tr>\n",
       "    <tr>\n",
       "      <th>2023-02-02</th>\n",
       "      <td>1.082101</td>\n",
       "      <td>0.590801</td>\n",
       "      <td>-1.197528</td>\n",
       "      <td>0.977709</td>\n",
       "    </tr>\n",
       "    <tr>\n",
       "      <th>2023-02-03</th>\n",
       "      <td>-0.458757</td>\n",
       "      <td>-1.049519</td>\n",
       "      <td>1.492331</td>\n",
       "      <td>0.923582</td>\n",
       "    </tr>\n",
       "    <tr>\n",
       "      <th>2023-02-04</th>\n",
       "      <td>-0.022980</td>\n",
       "      <td>-0.114815</td>\n",
       "      <td>0.243853</td>\n",
       "      <td>0.171470</td>\n",
       "    </tr>\n",
       "    <tr>\n",
       "      <th>2023-02-05</th>\n",
       "      <td>2.821711</td>\n",
       "      <td>0.931062</td>\n",
       "      <td>-1.696853</td>\n",
       "      <td>-1.208424</td>\n",
       "    </tr>\n",
       "    <tr>\n",
       "      <th>2023-02-06</th>\n",
       "      <td>0.677529</td>\n",
       "      <td>-1.906765</td>\n",
       "      <td>0.761872</td>\n",
       "      <td>-0.337102</td>\n",
       "    </tr>\n",
       "  </tbody>\n",
       "</table>\n",
       "</div>"
      ],
      "text/plain": [
       "                   D         C         B         A\n",
       "2023-02-01 -0.809900  0.952512  1.196848 -0.525497\n",
       "2023-02-02  1.082101  0.590801 -1.197528  0.977709\n",
       "2023-02-03 -0.458757 -1.049519  1.492331  0.923582\n",
       "2023-02-04 -0.022980 -0.114815  0.243853  0.171470\n",
       "2023-02-05  2.821711  0.931062 -1.696853 -1.208424\n",
       "2023-02-06  0.677529 -1.906765  0.761872 -0.337102"
      ]
     },
     "execution_count": 11,
     "metadata": {},
     "output_type": "execute_result"
    }
   ],
   "source": [
    "df11.sort_index(axis=1, ascending=False)   #axis 1 means col, column is standing like 1.  axis 0 means rows will sort"
   ]
  },
  {
   "cell_type": "code",
   "execution_count": 12,
   "metadata": {},
   "outputs": [
    {
     "data": {
      "text/html": [
       "<div>\n",
       "<style scoped>\n",
       "    .dataframe tbody tr th:only-of-type {\n",
       "        vertical-align: middle;\n",
       "    }\n",
       "\n",
       "    .dataframe tbody tr th {\n",
       "        vertical-align: top;\n",
       "    }\n",
       "\n",
       "    .dataframe thead th {\n",
       "        text-align: right;\n",
       "    }\n",
       "</style>\n",
       "<table border=\"1\" class=\"dataframe\">\n",
       "  <thead>\n",
       "    <tr style=\"text-align: right;\">\n",
       "      <th></th>\n",
       "      <th>A</th>\n",
       "      <th>B</th>\n",
       "      <th>C</th>\n",
       "      <th>D</th>\n",
       "    </tr>\n",
       "  </thead>\n",
       "  <tbody>\n",
       "    <tr>\n",
       "      <th>2023-02-06</th>\n",
       "      <td>-0.337102</td>\n",
       "      <td>0.761872</td>\n",
       "      <td>-1.906765</td>\n",
       "      <td>0.677529</td>\n",
       "    </tr>\n",
       "    <tr>\n",
       "      <th>2023-02-05</th>\n",
       "      <td>-1.208424</td>\n",
       "      <td>-1.696853</td>\n",
       "      <td>0.931062</td>\n",
       "      <td>2.821711</td>\n",
       "    </tr>\n",
       "    <tr>\n",
       "      <th>2023-02-04</th>\n",
       "      <td>0.171470</td>\n",
       "      <td>0.243853</td>\n",
       "      <td>-0.114815</td>\n",
       "      <td>-0.022980</td>\n",
       "    </tr>\n",
       "    <tr>\n",
       "      <th>2023-02-03</th>\n",
       "      <td>0.923582</td>\n",
       "      <td>1.492331</td>\n",
       "      <td>-1.049519</td>\n",
       "      <td>-0.458757</td>\n",
       "    </tr>\n",
       "    <tr>\n",
       "      <th>2023-02-02</th>\n",
       "      <td>0.977709</td>\n",
       "      <td>-1.197528</td>\n",
       "      <td>0.590801</td>\n",
       "      <td>1.082101</td>\n",
       "    </tr>\n",
       "    <tr>\n",
       "      <th>2023-02-01</th>\n",
       "      <td>-0.525497</td>\n",
       "      <td>1.196848</td>\n",
       "      <td>0.952512</td>\n",
       "      <td>-0.809900</td>\n",
       "    </tr>\n",
       "  </tbody>\n",
       "</table>\n",
       "</div>"
      ],
      "text/plain": [
       "                   A         B         C         D\n",
       "2023-02-06 -0.337102  0.761872 -1.906765  0.677529\n",
       "2023-02-05 -1.208424 -1.696853  0.931062  2.821711\n",
       "2023-02-04  0.171470  0.243853 -0.114815 -0.022980\n",
       "2023-02-03  0.923582  1.492331 -1.049519 -0.458757\n",
       "2023-02-02  0.977709 -1.197528  0.590801  1.082101\n",
       "2023-02-01 -0.525497  1.196848  0.952512 -0.809900"
      ]
     },
     "execution_count": 12,
     "metadata": {},
     "output_type": "execute_result"
    }
   ],
   "source": [
    "df11.sort_index(axis=0, ascending=False)  # now look at rows 02-06 is up, and 02-01 is at the bottom"
   ]
  },
  {
   "cell_type": "code",
   "execution_count": 13,
   "metadata": {},
   "outputs": [
    {
     "data": {
      "text/html": [
       "<div>\n",
       "<style scoped>\n",
       "    .dataframe tbody tr th:only-of-type {\n",
       "        vertical-align: middle;\n",
       "    }\n",
       "\n",
       "    .dataframe tbody tr th {\n",
       "        vertical-align: top;\n",
       "    }\n",
       "\n",
       "    .dataframe thead th {\n",
       "        text-align: right;\n",
       "    }\n",
       "</style>\n",
       "<table border=\"1\" class=\"dataframe\">\n",
       "  <thead>\n",
       "    <tr style=\"text-align: right;\">\n",
       "      <th></th>\n",
       "      <th>A</th>\n",
       "      <th>B</th>\n",
       "      <th>C</th>\n",
       "      <th>D</th>\n",
       "    </tr>\n",
       "  </thead>\n",
       "  <tbody>\n",
       "    <tr>\n",
       "      <th>2023-02-01</th>\n",
       "      <td>-0.525497</td>\n",
       "      <td>1.196848</td>\n",
       "      <td>0.952512</td>\n",
       "      <td>-0.809900</td>\n",
       "    </tr>\n",
       "    <tr>\n",
       "      <th>2023-02-05</th>\n",
       "      <td>-1.208424</td>\n",
       "      <td>-1.696853</td>\n",
       "      <td>0.931062</td>\n",
       "      <td>2.821711</td>\n",
       "    </tr>\n",
       "    <tr>\n",
       "      <th>2023-02-02</th>\n",
       "      <td>0.977709</td>\n",
       "      <td>-1.197528</td>\n",
       "      <td>0.590801</td>\n",
       "      <td>1.082101</td>\n",
       "    </tr>\n",
       "    <tr>\n",
       "      <th>2023-02-04</th>\n",
       "      <td>0.171470</td>\n",
       "      <td>0.243853</td>\n",
       "      <td>-0.114815</td>\n",
       "      <td>-0.022980</td>\n",
       "    </tr>\n",
       "    <tr>\n",
       "      <th>2023-02-03</th>\n",
       "      <td>0.923582</td>\n",
       "      <td>1.492331</td>\n",
       "      <td>-1.049519</td>\n",
       "      <td>-0.458757</td>\n",
       "    </tr>\n",
       "    <tr>\n",
       "      <th>2023-02-06</th>\n",
       "      <td>-0.337102</td>\n",
       "      <td>0.761872</td>\n",
       "      <td>-1.906765</td>\n",
       "      <td>0.677529</td>\n",
       "    </tr>\n",
       "  </tbody>\n",
       "</table>\n",
       "</div>"
      ],
      "text/plain": [
       "                   A         B         C         D\n",
       "2023-02-01 -0.525497  1.196848  0.952512 -0.809900\n",
       "2023-02-05 -1.208424 -1.696853  0.931062  2.821711\n",
       "2023-02-02  0.977709 -1.197528  0.590801  1.082101\n",
       "2023-02-04  0.171470  0.243853 -0.114815 -0.022980\n",
       "2023-02-03  0.923582  1.492331 -1.049519 -0.458757\n",
       "2023-02-06 -0.337102  0.761872 -1.906765  0.677529"
      ]
     },
     "execution_count": 13,
     "metadata": {},
     "output_type": "execute_result"
    }
   ],
   "source": [
    "df11.sort_values(by='C', ascending=False)   # values of 'c' are sorted but other not effected. indices are also effected wrt C "
   ]
  },
  {
   "cell_type": "markdown",
   "metadata": {},
   "source": [
    "### Getting \n",
    "df.iloc[:,0:3]   # index location "
   ]
  },
  {
   "cell_type": "code",
   "execution_count": 14,
   "metadata": {},
   "outputs": [
    {
     "data": {
      "text/html": [
       "<div>\n",
       "<style scoped>\n",
       "    .dataframe tbody tr th:only-of-type {\n",
       "        vertical-align: middle;\n",
       "    }\n",
       "\n",
       "    .dataframe tbody tr th {\n",
       "        vertical-align: top;\n",
       "    }\n",
       "\n",
       "    .dataframe thead th {\n",
       "        text-align: right;\n",
       "    }\n",
       "</style>\n",
       "<table border=\"1\" class=\"dataframe\">\n",
       "  <thead>\n",
       "    <tr style=\"text-align: right;\">\n",
       "      <th></th>\n",
       "      <th>A</th>\n",
       "      <th>B</th>\n",
       "      <th>C</th>\n",
       "    </tr>\n",
       "  </thead>\n",
       "  <tbody>\n",
       "    <tr>\n",
       "      <th>2023-02-01</th>\n",
       "      <td>-0.525497</td>\n",
       "      <td>1.196848</td>\n",
       "      <td>0.952512</td>\n",
       "    </tr>\n",
       "    <tr>\n",
       "      <th>2023-02-02</th>\n",
       "      <td>0.977709</td>\n",
       "      <td>-1.197528</td>\n",
       "      <td>0.590801</td>\n",
       "    </tr>\n",
       "    <tr>\n",
       "      <th>2023-02-03</th>\n",
       "      <td>0.923582</td>\n",
       "      <td>1.492331</td>\n",
       "      <td>-1.049519</td>\n",
       "    </tr>\n",
       "    <tr>\n",
       "      <th>2023-02-04</th>\n",
       "      <td>0.171470</td>\n",
       "      <td>0.243853</td>\n",
       "      <td>-0.114815</td>\n",
       "    </tr>\n",
       "    <tr>\n",
       "      <th>2023-02-05</th>\n",
       "      <td>-1.208424</td>\n",
       "      <td>-1.696853</td>\n",
       "      <td>0.931062</td>\n",
       "    </tr>\n",
       "    <tr>\n",
       "      <th>2023-02-06</th>\n",
       "      <td>-0.337102</td>\n",
       "      <td>0.761872</td>\n",
       "      <td>-1.906765</td>\n",
       "    </tr>\n",
       "  </tbody>\n",
       "</table>\n",
       "</div>"
      ],
      "text/plain": [
       "                   A         B         C\n",
       "2023-02-01 -0.525497  1.196848  0.952512\n",
       "2023-02-02  0.977709 -1.197528  0.590801\n",
       "2023-02-03  0.923582  1.492331 -1.049519\n",
       "2023-02-04  0.171470  0.243853 -0.114815\n",
       "2023-02-05 -1.208424 -1.696853  0.931062\n",
       "2023-02-06 -0.337102  0.761872 -1.906765"
      ]
     },
     "execution_count": 14,
     "metadata": {},
     "output_type": "execute_result"
    }
   ],
   "source": [
    "\n",
    "df11.iloc[:,0:3]   # all rows, and 0 to 2 cols, as index start with 0. but it is outbound means 3 excluded so from  0 to 2 index"
   ]
  },
  {
   "cell_type": "code",
   "execution_count": 15,
   "metadata": {},
   "outputs": [
    {
     "data": {
      "text/html": [
       "<div>\n",
       "<style scoped>\n",
       "    .dataframe tbody tr th:only-of-type {\n",
       "        vertical-align: middle;\n",
       "    }\n",
       "\n",
       "    .dataframe tbody tr th {\n",
       "        vertical-align: top;\n",
       "    }\n",
       "\n",
       "    .dataframe thead th {\n",
       "        text-align: right;\n",
       "    }\n",
       "</style>\n",
       "<table border=\"1\" class=\"dataframe\">\n",
       "  <thead>\n",
       "    <tr style=\"text-align: right;\">\n",
       "      <th></th>\n",
       "      <th>A</th>\n",
       "      <th>B</th>\n",
       "      <th>C</th>\n",
       "    </tr>\n",
       "  </thead>\n",
       "  <tbody>\n",
       "    <tr>\n",
       "      <th>2023-02-04</th>\n",
       "      <td>0.171470</td>\n",
       "      <td>0.243853</td>\n",
       "      <td>-0.114815</td>\n",
       "    </tr>\n",
       "    <tr>\n",
       "      <th>2023-02-05</th>\n",
       "      <td>-1.208424</td>\n",
       "      <td>-1.696853</td>\n",
       "      <td>0.931062</td>\n",
       "    </tr>\n",
       "    <tr>\n",
       "      <th>2023-02-06</th>\n",
       "      <td>-0.337102</td>\n",
       "      <td>0.761872</td>\n",
       "      <td>-1.906765</td>\n",
       "    </tr>\n",
       "  </tbody>\n",
       "</table>\n",
       "</div>"
      ],
      "text/plain": [
       "                   A         B         C\n",
       "2023-02-04  0.171470  0.243853 -0.114815\n",
       "2023-02-05 -1.208424 -1.696853  0.931062\n",
       "2023-02-06 -0.337102  0.761872 -1.906765"
      ]
     },
     "execution_count": 15,
     "metadata": {},
     "output_type": "execute_result"
    }
   ],
   "source": [
    "df11.iloc[3:20,0:3]  # so 4th row(index 3rd) and onwards, no error will be prompted"
   ]
  },
  {
   "cell_type": "code",
   "execution_count": 16,
   "metadata": {},
   "outputs": [
    {
     "data": {
      "text/plain": [
       "A    0.171470\n",
       "B    0.243853\n",
       "C   -0.114815\n",
       "D   -0.022980\n",
       "Name: 2023-02-04 00:00:00, dtype: float64"
      ]
     },
     "execution_count": 16,
     "metadata": {},
     "output_type": "execute_result"
    }
   ],
   "source": [
    "df11.iloc[3]   # will show the 4th row only, and will transpose it"
   ]
  },
  {
   "cell_type": "markdown",
   "metadata": {},
   "source": [
    "### Getting \n",
    "df.loc[:, ['A', 'B']]"
   ]
  },
  {
   "cell_type": "code",
   "execution_count": 17,
   "metadata": {},
   "outputs": [
    {
     "data": {
      "text/html": [
       "<div>\n",
       "<style scoped>\n",
       "    .dataframe tbody tr th:only-of-type {\n",
       "        vertical-align: middle;\n",
       "    }\n",
       "\n",
       "    .dataframe tbody tr th {\n",
       "        vertical-align: top;\n",
       "    }\n",
       "\n",
       "    .dataframe thead th {\n",
       "        text-align: right;\n",
       "    }\n",
       "</style>\n",
       "<table border=\"1\" class=\"dataframe\">\n",
       "  <thead>\n",
       "    <tr style=\"text-align: right;\">\n",
       "      <th></th>\n",
       "      <th>A</th>\n",
       "      <th>B</th>\n",
       "    </tr>\n",
       "  </thead>\n",
       "  <tbody>\n",
       "    <tr>\n",
       "      <th>2023-02-01</th>\n",
       "      <td>-0.525497</td>\n",
       "      <td>1.196848</td>\n",
       "    </tr>\n",
       "    <tr>\n",
       "      <th>2023-02-02</th>\n",
       "      <td>0.977709</td>\n",
       "      <td>-1.197528</td>\n",
       "    </tr>\n",
       "    <tr>\n",
       "      <th>2023-02-03</th>\n",
       "      <td>0.923582</td>\n",
       "      <td>1.492331</td>\n",
       "    </tr>\n",
       "    <tr>\n",
       "      <th>2023-02-04</th>\n",
       "      <td>0.171470</td>\n",
       "      <td>0.243853</td>\n",
       "    </tr>\n",
       "    <tr>\n",
       "      <th>2023-02-05</th>\n",
       "      <td>-1.208424</td>\n",
       "      <td>-1.696853</td>\n",
       "    </tr>\n",
       "    <tr>\n",
       "      <th>2023-02-06</th>\n",
       "      <td>-0.337102</td>\n",
       "      <td>0.761872</td>\n",
       "    </tr>\n",
       "  </tbody>\n",
       "</table>\n",
       "</div>"
      ],
      "text/plain": [
       "                   A         B\n",
       "2023-02-01 -0.525497  1.196848\n",
       "2023-02-02  0.977709 -1.197528\n",
       "2023-02-03  0.923582  1.492331\n",
       "2023-02-04  0.171470  0.243853\n",
       "2023-02-05 -1.208424 -1.696853\n",
       "2023-02-06 -0.337102  0.761872"
      ]
     },
     "execution_count": 17,
     "metadata": {},
     "output_type": "execute_result"
    }
   ],
   "source": [
    "df11.loc[:, ['A', 'B']]  # here we can't put in index, col or rows/index names"
   ]
  },
  {
   "cell_type": "code",
   "execution_count": 22,
   "metadata": {},
   "outputs": [
    {
     "data": {
      "text/html": [
       "<div>\n",
       "<style scoped>\n",
       "    .dataframe tbody tr th:only-of-type {\n",
       "        vertical-align: middle;\n",
       "    }\n",
       "\n",
       "    .dataframe tbody tr th {\n",
       "        vertical-align: top;\n",
       "    }\n",
       "\n",
       "    .dataframe thead th {\n",
       "        text-align: right;\n",
       "    }\n",
       "</style>\n",
       "<table border=\"1\" class=\"dataframe\">\n",
       "  <thead>\n",
       "    <tr style=\"text-align: right;\">\n",
       "      <th></th>\n",
       "      <th>B</th>\n",
       "      <th>C</th>\n",
       "    </tr>\n",
       "  </thead>\n",
       "  <tbody>\n",
       "    <tr>\n",
       "      <th>2023-02-02</th>\n",
       "      <td>-1.197528</td>\n",
       "      <td>0.590801</td>\n",
       "    </tr>\n",
       "    <tr>\n",
       "      <th>2023-02-04</th>\n",
       "      <td>0.243853</td>\n",
       "      <td>-0.114815</td>\n",
       "    </tr>\n",
       "  </tbody>\n",
       "</table>\n",
       "</div>"
      ],
      "text/plain": [
       "                   B         C\n",
       "2023-02-02 -1.197528  0.590801\n",
       "2023-02-04  0.243853 -0.114815"
      ]
     },
     "execution_count": 22,
     "metadata": {},
     "output_type": "execute_result"
    }
   ],
   "source": [
    "df11.iloc[[1,3], [1,2]]  #row 2(ind 1) and 4(indx 3) selected,  col 2(indx 1) and 3(ind 2) selected. "
   ]
  },
  {
   "cell_type": "code",
   "execution_count": 23,
   "metadata": {},
   "outputs": [
    {
     "data": {
      "text/plain": [
       "2023-02-01   -0.525497\n",
       "2023-02-02    0.977709\n",
       "2023-02-03    0.923582\n",
       "2023-02-04    0.171470\n",
       "2023-02-05   -1.208424\n",
       "2023-02-06   -0.337102\n",
       "Freq: D, Name: A, dtype: float64"
      ]
     },
     "execution_count": 23,
     "metadata": {},
     "output_type": "execute_result"
    }
   ],
   "source": [
    "df11['A']   "
   ]
  },
  {
   "cell_type": "code",
   "execution_count": 24,
   "metadata": {},
   "outputs": [
    {
     "data": {
      "text/html": [
       "<div>\n",
       "<style scoped>\n",
       "    .dataframe tbody tr th:only-of-type {\n",
       "        vertical-align: middle;\n",
       "    }\n",
       "\n",
       "    .dataframe tbody tr th {\n",
       "        vertical-align: top;\n",
       "    }\n",
       "\n",
       "    .dataframe thead th {\n",
       "        text-align: right;\n",
       "    }\n",
       "</style>\n",
       "<table border=\"1\" class=\"dataframe\">\n",
       "  <thead>\n",
       "    <tr style=\"text-align: right;\">\n",
       "      <th></th>\n",
       "      <th>A</th>\n",
       "      <th>B</th>\n",
       "      <th>C</th>\n",
       "      <th>D</th>\n",
       "    </tr>\n",
       "  </thead>\n",
       "  <tbody>\n",
       "    <tr>\n",
       "      <th>2023-02-01</th>\n",
       "      <td>-0.525497</td>\n",
       "      <td>1.196848</td>\n",
       "      <td>0.952512</td>\n",
       "      <td>-0.809900</td>\n",
       "    </tr>\n",
       "    <tr>\n",
       "      <th>2023-02-05</th>\n",
       "      <td>-1.208424</td>\n",
       "      <td>-1.696853</td>\n",
       "      <td>0.931062</td>\n",
       "      <td>2.821711</td>\n",
       "    </tr>\n",
       "    <tr>\n",
       "      <th>2023-02-06</th>\n",
       "      <td>-0.337102</td>\n",
       "      <td>0.761872</td>\n",
       "      <td>-1.906765</td>\n",
       "      <td>0.677529</td>\n",
       "    </tr>\n",
       "  </tbody>\n",
       "</table>\n",
       "</div>"
      ],
      "text/plain": [
       "                   A         B         C         D\n",
       "2023-02-01 -0.525497  1.196848  0.952512 -0.809900\n",
       "2023-02-05 -1.208424 -1.696853  0.931062  2.821711\n",
       "2023-02-06 -0.337102  0.761872 -1.906765  0.677529"
      ]
     },
     "execution_count": 24,
     "metadata": {},
     "output_type": "execute_result"
    }
   ],
   "source": [
    "df11[df11['A'] > 0]   # will select rows wrt A values greater than 0. all other cols will follow only,"
   ]
  },
  {
   "cell_type": "code",
   "execution_count": null,
   "metadata": {},
   "outputs": [],
   "source": []
  }
 ],
 "metadata": {
  "kernelspec": {
   "display_name": "Python 3",
   "language": "python",
   "name": "python3"
  },
  "language_info": {
   "codemirror_mode": {
    "name": "ipython",
    "version": 3
   },
   "file_extension": ".py",
   "mimetype": "text/x-python",
   "name": "python",
   "nbconvert_exporter": "python",
   "pygments_lexer": "ipython3",
   "version": "3.11.6"
  }
 },
 "nbformat": 4,
 "nbformat_minor": 2
}
